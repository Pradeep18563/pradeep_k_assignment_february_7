{
 "cells": [
  {
   "cell_type": "markdown",
   "id": "0796bdac",
   "metadata": {},
   "source": [
    "Case Study on Probability for Data Science\n",
    "Problem Statement: \n",
    "To make a suitable machine learning algorithm to predict if the mushroom is \n",
    "edible or poisonous (e or p) using the given dataset.\n",
    "(Along with other ML algorithms, Naïve Bayes’ Classifier should be applied)\n",
    "Also, if some data pre-processing is necessary do that as well."
   ]
  },
  {
   "cell_type": "markdown",
   "id": "2c8a89c2",
   "metadata": {},
   "source": [
    "The objective of this problem is to correctly classify if the mushroom is edible or poisonous by it’s specifications like cap shape, cap color, gill color, etc. using different classifiers.\n",
    "\n",
    "In this project the following classifiers are tested to make the prediction:-\n",
    "\n",
    "Gaussian Naive Bayes \n",
    "BernoulliNaiveBayes \n",
    "Naive Bayes\n",
    "Decision Tree,\n",
    "KNN Logistic Regression,\n",
    "SVM,\n",
    "DecisionTree Classifier\n",
    "Random Forest Classifier"
   ]
  },
  {
   "cell_type": "code",
   "execution_count": 2,
   "id": "5abbb3dd",
   "metadata": {},
   "outputs": [],
   "source": [
    "import numpy as np\n",
    "import matplotlib.pyplot as plt\n",
    "import pandas as pd\n",
    "import seaborn as sns"
   ]
  },
  {
   "cell_type": "code",
   "execution_count": 3,
   "id": "913b2581",
   "metadata": {},
   "outputs": [],
   "source": [
    "dataset=pd.read_csv(r\"C:\\Users\\HP\\OneDrive\\Desktop\\mushrooms.csv\")"
   ]
  },
  {
   "cell_type": "code",
   "execution_count": 4,
   "id": "6b62f162",
   "metadata": {},
   "outputs": [
    {
     "data": {
      "text/html": [
       "<div>\n",
       "<style scoped>\n",
       "    .dataframe tbody tr th:only-of-type {\n",
       "        vertical-align: middle;\n",
       "    }\n",
       "\n",
       "    .dataframe tbody tr th {\n",
       "        vertical-align: top;\n",
       "    }\n",
       "\n",
       "    .dataframe thead th {\n",
       "        text-align: right;\n",
       "    }\n",
       "</style>\n",
       "<table border=\"1\" class=\"dataframe\">\n",
       "  <thead>\n",
       "    <tr style=\"text-align: right;\">\n",
       "      <th></th>\n",
       "      <th>class</th>\n",
       "      <th>cap-shape</th>\n",
       "      <th>cap-surface</th>\n",
       "      <th>cap-color</th>\n",
       "      <th>bruises</th>\n",
       "      <th>odor</th>\n",
       "      <th>gill-attachment</th>\n",
       "      <th>gill-spacing</th>\n",
       "      <th>gill-size</th>\n",
       "      <th>gill-color</th>\n",
       "      <th>...</th>\n",
       "      <th>stalk-surface-below-ring</th>\n",
       "      <th>stalk-color-above-ring</th>\n",
       "      <th>stalk-color-below-ring</th>\n",
       "      <th>veil-type</th>\n",
       "      <th>veil-color</th>\n",
       "      <th>ring-number</th>\n",
       "      <th>ring-type</th>\n",
       "      <th>spore-print-color</th>\n",
       "      <th>population</th>\n",
       "      <th>habitat</th>\n",
       "    </tr>\n",
       "  </thead>\n",
       "  <tbody>\n",
       "    <tr>\n",
       "      <th>0</th>\n",
       "      <td>p</td>\n",
       "      <td>x</td>\n",
       "      <td>s</td>\n",
       "      <td>n</td>\n",
       "      <td>t</td>\n",
       "      <td>p</td>\n",
       "      <td>f</td>\n",
       "      <td>c</td>\n",
       "      <td>n</td>\n",
       "      <td>k</td>\n",
       "      <td>...</td>\n",
       "      <td>s</td>\n",
       "      <td>w</td>\n",
       "      <td>w</td>\n",
       "      <td>p</td>\n",
       "      <td>w</td>\n",
       "      <td>o</td>\n",
       "      <td>p</td>\n",
       "      <td>k</td>\n",
       "      <td>s</td>\n",
       "      <td>u</td>\n",
       "    </tr>\n",
       "    <tr>\n",
       "      <th>1</th>\n",
       "      <td>e</td>\n",
       "      <td>x</td>\n",
       "      <td>s</td>\n",
       "      <td>y</td>\n",
       "      <td>t</td>\n",
       "      <td>a</td>\n",
       "      <td>f</td>\n",
       "      <td>c</td>\n",
       "      <td>b</td>\n",
       "      <td>k</td>\n",
       "      <td>...</td>\n",
       "      <td>s</td>\n",
       "      <td>w</td>\n",
       "      <td>w</td>\n",
       "      <td>p</td>\n",
       "      <td>w</td>\n",
       "      <td>o</td>\n",
       "      <td>p</td>\n",
       "      <td>n</td>\n",
       "      <td>n</td>\n",
       "      <td>g</td>\n",
       "    </tr>\n",
       "    <tr>\n",
       "      <th>2</th>\n",
       "      <td>e</td>\n",
       "      <td>b</td>\n",
       "      <td>s</td>\n",
       "      <td>w</td>\n",
       "      <td>t</td>\n",
       "      <td>l</td>\n",
       "      <td>f</td>\n",
       "      <td>c</td>\n",
       "      <td>b</td>\n",
       "      <td>n</td>\n",
       "      <td>...</td>\n",
       "      <td>s</td>\n",
       "      <td>w</td>\n",
       "      <td>w</td>\n",
       "      <td>p</td>\n",
       "      <td>w</td>\n",
       "      <td>o</td>\n",
       "      <td>p</td>\n",
       "      <td>n</td>\n",
       "      <td>n</td>\n",
       "      <td>m</td>\n",
       "    </tr>\n",
       "  </tbody>\n",
       "</table>\n",
       "<p>3 rows × 23 columns</p>\n",
       "</div>"
      ],
      "text/plain": [
       "  class cap-shape cap-surface cap-color bruises odor gill-attachment  \\\n",
       "0     p         x           s         n       t    p               f   \n",
       "1     e         x           s         y       t    a               f   \n",
       "2     e         b           s         w       t    l               f   \n",
       "\n",
       "  gill-spacing gill-size gill-color  ... stalk-surface-below-ring  \\\n",
       "0            c         n          k  ...                        s   \n",
       "1            c         b          k  ...                        s   \n",
       "2            c         b          n  ...                        s   \n",
       "\n",
       "  stalk-color-above-ring stalk-color-below-ring veil-type veil-color  \\\n",
       "0                      w                      w         p          w   \n",
       "1                      w                      w         p          w   \n",
       "2                      w                      w         p          w   \n",
       "\n",
       "  ring-number ring-type spore-print-color population habitat  \n",
       "0           o         p                 k          s       u  \n",
       "1           o         p                 n          n       g  \n",
       "2           o         p                 n          n       m  \n",
       "\n",
       "[3 rows x 23 columns]"
      ]
     },
     "execution_count": 4,
     "metadata": {},
     "output_type": "execute_result"
    }
   ],
   "source": [
    "dataset.head(3)"
   ]
  },
  {
   "cell_type": "code",
   "execution_count": 4,
   "id": "1b2df930",
   "metadata": {},
   "outputs": [
    {
     "data": {
      "text/plain": [
       "(8124, 23)"
      ]
     },
     "execution_count": 4,
     "metadata": {},
     "output_type": "execute_result"
    }
   ],
   "source": [
    "dataset.shape"
   ]
  },
  {
   "cell_type": "code",
   "execution_count": 5,
   "id": "a8f45156",
   "metadata": {},
   "outputs": [
    {
     "name": "stdout",
     "output_type": "stream",
     "text": [
      "<class 'pandas.core.frame.DataFrame'>\n",
      "RangeIndex: 8124 entries, 0 to 8123\n",
      "Data columns (total 23 columns):\n",
      " #   Column                    Non-Null Count  Dtype \n",
      "---  ------                    --------------  ----- \n",
      " 0   class                     8124 non-null   object\n",
      " 1   cap-shape                 8124 non-null   object\n",
      " 2   cap-surface               8124 non-null   object\n",
      " 3   cap-color                 8124 non-null   object\n",
      " 4   bruises                   8124 non-null   object\n",
      " 5   odor                      8124 non-null   object\n",
      " 6   gill-attachment           8124 non-null   object\n",
      " 7   gill-spacing              8124 non-null   object\n",
      " 8   gill-size                 8124 non-null   object\n",
      " 9   gill-color                8124 non-null   object\n",
      " 10  stalk-shape               8124 non-null   object\n",
      " 11  stalk-root                8124 non-null   object\n",
      " 12  stalk-surface-above-ring  8124 non-null   object\n",
      " 13  stalk-surface-below-ring  8124 non-null   object\n",
      " 14  stalk-color-above-ring    8124 non-null   object\n",
      " 15  stalk-color-below-ring    8124 non-null   object\n",
      " 16  veil-type                 8124 non-null   object\n",
      " 17  veil-color                8124 non-null   object\n",
      " 18  ring-number               8124 non-null   object\n",
      " 19  ring-type                 8124 non-null   object\n",
      " 20  spore-print-color         8124 non-null   object\n",
      " 21  population                8124 non-null   object\n",
      " 22  habitat                   8124 non-null   object\n",
      "dtypes: object(23)\n",
      "memory usage: 1.4+ MB\n"
     ]
    }
   ],
   "source": [
    "dataset.info()"
   ]
  },
  {
   "cell_type": "code",
   "execution_count": 6,
   "id": "409e6103",
   "metadata": {},
   "outputs": [
    {
     "data": {
      "text/plain": [
       "class                       object\n",
       "cap-shape                   object\n",
       "cap-surface                 object\n",
       "cap-color                   object\n",
       "bruises                     object\n",
       "odor                        object\n",
       "gill-attachment             object\n",
       "gill-spacing                object\n",
       "gill-size                   object\n",
       "gill-color                  object\n",
       "stalk-shape                 object\n",
       "stalk-root                  object\n",
       "stalk-surface-above-ring    object\n",
       "stalk-surface-below-ring    object\n",
       "stalk-color-above-ring      object\n",
       "stalk-color-below-ring      object\n",
       "veil-type                   object\n",
       "veil-color                  object\n",
       "ring-number                 object\n",
       "ring-type                   object\n",
       "spore-print-color           object\n",
       "population                  object\n",
       "habitat                     object\n",
       "dtype: object"
      ]
     },
     "execution_count": 6,
     "metadata": {},
     "output_type": "execute_result"
    }
   ],
   "source": [
    "dataset.dtypes"
   ]
  },
  {
   "cell_type": "code",
   "execution_count": 7,
   "id": "182a73ca",
   "metadata": {},
   "outputs": [
    {
     "name": "stdout",
     "output_type": "stream",
     "text": [
      "e    4208\n",
      "p    3916\n",
      "Name: class, dtype: int64\n",
      "x    3656\n",
      "f    3152\n",
      "k     828\n",
      "b     452\n",
      "s      32\n",
      "c       4\n",
      "Name: cap-shape, dtype: int64\n",
      "y    3244\n",
      "s    2556\n",
      "f    2320\n",
      "g       4\n",
      "Name: cap-surface, dtype: int64\n",
      "n    2284\n",
      "g    1840\n",
      "e    1500\n",
      "y    1072\n",
      "w    1040\n",
      "b     168\n",
      "p     144\n",
      "c      44\n",
      "u      16\n",
      "r      16\n",
      "Name: cap-color, dtype: int64\n",
      "f    4748\n",
      "t    3376\n",
      "Name: bruises, dtype: int64\n",
      "n    3528\n",
      "f    2160\n",
      "y     576\n",
      "s     576\n",
      "a     400\n",
      "l     400\n",
      "p     256\n",
      "c     192\n",
      "m      36\n",
      "Name: odor, dtype: int64\n",
      "f    7914\n",
      "a     210\n",
      "Name: gill-attachment, dtype: int64\n",
      "c    6812\n",
      "w    1312\n",
      "Name: gill-spacing, dtype: int64\n",
      "b    5612\n",
      "n    2512\n",
      "Name: gill-size, dtype: int64\n",
      "b    1728\n",
      "p    1492\n",
      "w    1202\n",
      "n    1048\n",
      "g     752\n",
      "h     732\n",
      "u     492\n",
      "k     408\n",
      "e      96\n",
      "y      86\n",
      "o      64\n",
      "r      24\n",
      "Name: gill-color, dtype: int64\n",
      "t    4608\n",
      "e    3516\n",
      "Name: stalk-shape, dtype: int64\n",
      "b    3776\n",
      "?    2480\n",
      "e    1120\n",
      "c     556\n",
      "r     192\n",
      "Name: stalk-root, dtype: int64\n",
      "s    5176\n",
      "k    2372\n",
      "f     552\n",
      "y      24\n",
      "Name: stalk-surface-above-ring, dtype: int64\n",
      "s    4936\n",
      "k    2304\n",
      "f     600\n",
      "y     284\n",
      "Name: stalk-surface-below-ring, dtype: int64\n",
      "w    4464\n",
      "p    1872\n",
      "g     576\n",
      "n     448\n",
      "b     432\n",
      "o     192\n",
      "e      96\n",
      "c      36\n",
      "y       8\n",
      "Name: stalk-color-above-ring, dtype: int64\n",
      "w    4384\n",
      "p    1872\n",
      "g     576\n",
      "n     512\n",
      "b     432\n",
      "o     192\n",
      "e      96\n",
      "c      36\n",
      "y      24\n",
      "Name: stalk-color-below-ring, dtype: int64\n",
      "p    8124\n",
      "Name: veil-type, dtype: int64\n",
      "w    7924\n",
      "n      96\n",
      "o      96\n",
      "y       8\n",
      "Name: veil-color, dtype: int64\n",
      "o    7488\n",
      "t     600\n",
      "n      36\n",
      "Name: ring-number, dtype: int64\n",
      "p    3968\n",
      "e    2776\n",
      "l    1296\n",
      "f      48\n",
      "n      36\n",
      "Name: ring-type, dtype: int64\n",
      "w    2388\n",
      "n    1968\n",
      "k    1872\n",
      "h    1632\n",
      "r      72\n",
      "u      48\n",
      "o      48\n",
      "y      48\n",
      "b      48\n",
      "Name: spore-print-color, dtype: int64\n",
      "v    4040\n",
      "y    1712\n",
      "s    1248\n",
      "n     400\n",
      "a     384\n",
      "c     340\n",
      "Name: population, dtype: int64\n",
      "d    3148\n",
      "g    2148\n",
      "p    1144\n",
      "l     832\n",
      "u     368\n",
      "m     292\n",
      "w     192\n",
      "Name: habitat, dtype: int64\n"
     ]
    }
   ],
   "source": [
    "obj_cols = dataset.select_dtypes(include='object').columns\n",
    "for each in obj_cols:\n",
    "    print(dataset[each].value_counts())"
   ]
  },
  {
   "cell_type": "code",
   "execution_count": 8,
   "id": "43b80fc4",
   "metadata": {},
   "outputs": [
    {
     "data": {
      "text/plain": [
       "class                       0\n",
       "cap-shape                   0\n",
       "cap-surface                 0\n",
       "cap-color                   0\n",
       "bruises                     0\n",
       "odor                        0\n",
       "gill-attachment             0\n",
       "gill-spacing                0\n",
       "gill-size                   0\n",
       "gill-color                  0\n",
       "stalk-shape                 0\n",
       "stalk-root                  0\n",
       "stalk-surface-above-ring    0\n",
       "stalk-surface-below-ring    0\n",
       "stalk-color-above-ring      0\n",
       "stalk-color-below-ring      0\n",
       "veil-type                   0\n",
       "veil-color                  0\n",
       "ring-number                 0\n",
       "ring-type                   0\n",
       "spore-print-color           0\n",
       "population                  0\n",
       "habitat                     0\n",
       "dtype: int64"
      ]
     },
     "execution_count": 8,
     "metadata": {},
     "output_type": "execute_result"
    }
   ],
   "source": [
    "dataset.isnull().sum()"
   ]
  },
  {
   "cell_type": "code",
   "execution_count": 9,
   "id": "d35460a0",
   "metadata": {},
   "outputs": [
    {
     "data": {
      "text/plain": [
       "class                        2\n",
       "cap-shape                    6\n",
       "cap-surface                  4\n",
       "cap-color                   10\n",
       "bruises                      2\n",
       "odor                         9\n",
       "gill-attachment              2\n",
       "gill-spacing                 2\n",
       "gill-size                    2\n",
       "gill-color                  12\n",
       "stalk-shape                  2\n",
       "stalk-root                   5\n",
       "stalk-surface-above-ring     4\n",
       "stalk-surface-below-ring     4\n",
       "stalk-color-above-ring       9\n",
       "stalk-color-below-ring       9\n",
       "veil-type                    1\n",
       "veil-color                   4\n",
       "ring-number                  3\n",
       "ring-type                    5\n",
       "spore-print-color            9\n",
       "population                   6\n",
       "habitat                      7\n",
       "dtype: int64"
      ]
     },
     "execution_count": 9,
     "metadata": {},
     "output_type": "execute_result"
    }
   ],
   "source": [
    "\n",
    "dataset.nunique()"
   ]
  },
  {
   "cell_type": "code",
   "execution_count": 10,
   "id": "dab3e485",
   "metadata": {},
   "outputs": [],
   "source": [
    "#visualize the count of edible and poisonous mushrooms using Seaborn"
   ]
  },
  {
   "cell_type": "code",
   "execution_count": 7,
   "id": "5c905c67",
   "metadata": {},
   "outputs": [
    {
     "name": "stderr",
     "output_type": "stream",
     "text": [
      "C:\\Users\\HP\\anaconda3\\lib\\site-packages\\seaborn\\_decorators.py:36: FutureWarning: Pass the following variables as keyword args: x, y. From version 0.12, the only valid positional argument will be `data`, and passing other arguments without an explicit keyword will result in an error or misinterpretation.\n",
      "  warnings.warn(\n"
     ]
    },
    {
     "data": {
      "image/png": "[encoded data removed]",
      "text/plain": [
       "<Figure size 432x288 with 1 Axes>"
      ]
     },
     "metadata": {
      "needs_background": "light"
     },
     "output_type": "display_data"
    }
   ],
   "source": [
    "count = dataset['class'].value_counts()\n",
    "plt.figure(figsize=(6,4))\n",
    "sns.barplot(count.index, count.values, alpha=0.8, palette=\"prism\")\n",
    "plt.ylabel('Count', fontsize=12)\n",
    "plt.xlabel('Class', fontsize=12)\n",
    "plt.title('Number of edible/poisonous mushrooms')\n",
    "\n",
    "plt.show()"
   ]
  },
  {
   "cell_type": "markdown",
   "id": "f1cf3070",
   "metadata": {},
   "source": [
    "Data Manipulation\n",
    "The data is categorical so we’ll use LabelEncoder to convert it to ordinal. LabelEncoder converts each value in a column to a number.\n",
    "This approach requires the category column to be of ‘category’ datatype. By default, a non-numerical column is of ‘object’ datatype. From the df.describe() method, we saw that our columns are of ‘object’ datatype. So we will have to change the type to ‘category’ before using this approach."
   ]
  },
  {
   "cell_type": "code",
   "execution_count": 12,
   "id": "0cfeb2d8",
   "metadata": {},
   "outputs": [
    {
     "data": {
      "text/plain": [
       "class                       category\n",
       "cap-shape                   category\n",
       "cap-surface                 category\n",
       "cap-color                   category\n",
       "bruises                     category\n",
       "odor                        category\n",
       "gill-attachment             category\n",
       "gill-spacing                category\n",
       "gill-size                   category\n",
       "gill-color                  category\n",
       "stalk-shape                 category\n",
       "stalk-root                  category\n",
       "stalk-surface-above-ring    category\n",
       "stalk-surface-below-ring    category\n",
       "stalk-color-above-ring      category\n",
       "stalk-color-below-ring      category\n",
       "veil-type                   category\n",
       "veil-color                  category\n",
       "ring-number                 category\n",
       "ring-type                   category\n",
       "spore-print-color           category\n",
       "population                  category\n",
       "habitat                     category\n",
       "dtype: object"
      ]
     },
     "execution_count": 12,
     "metadata": {},
     "output_type": "execute_result"
    }
   ],
   "source": [
    "dataset= dataset.astype('category')\n",
    "dataset.dtypes"
   ]
  },
  {
   "cell_type": "code",
   "execution_count": 13,
   "id": "ad8d8947",
   "metadata": {},
   "outputs": [],
   "source": [
    "#use LabelEncoder to convert categorical values to ordinal."
   ]
  },
  {
   "cell_type": "code",
   "execution_count": 14,
   "id": "9dc99cae",
   "metadata": {},
   "outputs": [
    {
     "data": {
      "text/html": [
       "<div>\n",
       "<style scoped>\n",
       "    .dataframe tbody tr th:only-of-type {\n",
       "        vertical-align: middle;\n",
       "    }\n",
       "\n",
       "    .dataframe tbody tr th {\n",
       "        vertical-align: top;\n",
       "    }\n",
       "\n",
       "    .dataframe thead th {\n",
       "        text-align: right;\n",
       "    }\n",
       "</style>\n",
       "<table border=\"1\" class=\"dataframe\">\n",
       "  <thead>\n",
       "    <tr style=\"text-align: right;\">\n",
       "      <th></th>\n",
       "      <th>class</th>\n",
       "      <th>cap-shape</th>\n",
       "      <th>cap-surface</th>\n",
       "      <th>cap-color</th>\n",
       "      <th>bruises</th>\n",
       "      <th>odor</th>\n",
       "      <th>gill-attachment</th>\n",
       "      <th>gill-spacing</th>\n",
       "      <th>gill-size</th>\n",
       "      <th>gill-color</th>\n",
       "      <th>...</th>\n",
       "      <th>stalk-surface-below-ring</th>\n",
       "      <th>stalk-color-above-ring</th>\n",
       "      <th>stalk-color-below-ring</th>\n",
       "      <th>veil-type</th>\n",
       "      <th>veil-color</th>\n",
       "      <th>ring-number</th>\n",
       "      <th>ring-type</th>\n",
       "      <th>spore-print-color</th>\n",
       "      <th>population</th>\n",
       "      <th>habitat</th>\n",
       "    </tr>\n",
       "  </thead>\n",
       "  <tbody>\n",
       "    <tr>\n",
       "      <th>0</th>\n",
       "      <td>1</td>\n",
       "      <td>5</td>\n",
       "      <td>2</td>\n",
       "      <td>4</td>\n",
       "      <td>1</td>\n",
       "      <td>6</td>\n",
       "      <td>1</td>\n",
       "      <td>0</td>\n",
       "      <td>1</td>\n",
       "      <td>4</td>\n",
       "      <td>...</td>\n",
       "      <td>2</td>\n",
       "      <td>7</td>\n",
       "      <td>7</td>\n",
       "      <td>0</td>\n",
       "      <td>2</td>\n",
       "      <td>1</td>\n",
       "      <td>4</td>\n",
       "      <td>2</td>\n",
       "      <td>3</td>\n",
       "      <td>5</td>\n",
       "    </tr>\n",
       "    <tr>\n",
       "      <th>1</th>\n",
       "      <td>0</td>\n",
       "      <td>5</td>\n",
       "      <td>2</td>\n",
       "      <td>9</td>\n",
       "      <td>1</td>\n",
       "      <td>0</td>\n",
       "      <td>1</td>\n",
       "      <td>0</td>\n",
       "      <td>0</td>\n",
       "      <td>4</td>\n",
       "      <td>...</td>\n",
       "      <td>2</td>\n",
       "      <td>7</td>\n",
       "      <td>7</td>\n",
       "      <td>0</td>\n",
       "      <td>2</td>\n",
       "      <td>1</td>\n",
       "      <td>4</td>\n",
       "      <td>3</td>\n",
       "      <td>2</td>\n",
       "      <td>1</td>\n",
       "    </tr>\n",
       "    <tr>\n",
       "      <th>2</th>\n",
       "      <td>0</td>\n",
       "      <td>0</td>\n",
       "      <td>2</td>\n",
       "      <td>8</td>\n",
       "      <td>1</td>\n",
       "      <td>3</td>\n",
       "      <td>1</td>\n",
       "      <td>0</td>\n",
       "      <td>0</td>\n",
       "      <td>5</td>\n",
       "      <td>...</td>\n",
       "      <td>2</td>\n",
       "      <td>7</td>\n",
       "      <td>7</td>\n",
       "      <td>0</td>\n",
       "      <td>2</td>\n",
       "      <td>1</td>\n",
       "      <td>4</td>\n",
       "      <td>3</td>\n",
       "      <td>2</td>\n",
       "      <td>3</td>\n",
       "    </tr>\n",
       "    <tr>\n",
       "      <th>3</th>\n",
       "      <td>1</td>\n",
       "      <td>5</td>\n",
       "      <td>3</td>\n",
       "      <td>8</td>\n",
       "      <td>1</td>\n",
       "      <td>6</td>\n",
       "      <td>1</td>\n",
       "      <td>0</td>\n",
       "      <td>1</td>\n",
       "      <td>5</td>\n",
       "      <td>...</td>\n",
       "      <td>2</td>\n",
       "      <td>7</td>\n",
       "      <td>7</td>\n",
       "      <td>0</td>\n",
       "      <td>2</td>\n",
       "      <td>1</td>\n",
       "      <td>4</td>\n",
       "      <td>2</td>\n",
       "      <td>3</td>\n",
       "      <td>5</td>\n",
       "    </tr>\n",
       "    <tr>\n",
       "      <th>4</th>\n",
       "      <td>0</td>\n",
       "      <td>5</td>\n",
       "      <td>2</td>\n",
       "      <td>3</td>\n",
       "      <td>0</td>\n",
       "      <td>5</td>\n",
       "      <td>1</td>\n",
       "      <td>1</td>\n",
       "      <td>0</td>\n",
       "      <td>4</td>\n",
       "      <td>...</td>\n",
       "      <td>2</td>\n",
       "      <td>7</td>\n",
       "      <td>7</td>\n",
       "      <td>0</td>\n",
       "      <td>2</td>\n",
       "      <td>1</td>\n",
       "      <td>0</td>\n",
       "      <td>3</td>\n",
       "      <td>0</td>\n",
       "      <td>1</td>\n",
       "    </tr>\n",
       "  </tbody>\n",
       "</table>\n",
       "<p>5 rows × 23 columns</p>\n",
       "</div>"
      ],
      "text/plain": [
       "   class  cap-shape  cap-surface  cap-color  bruises  odor  gill-attachment  \\\n",
       "0      1          5            2          4        1     6                1   \n",
       "1      0          5            2          9        1     0                1   \n",
       "2      0          0            2          8        1     3                1   \n",
       "3      1          5            3          8        1     6                1   \n",
       "4      0          5            2          3        0     5                1   \n",
       "\n",
       "   gill-spacing  gill-size  gill-color  ...  stalk-surface-below-ring  \\\n",
       "0             0          1           4  ...                         2   \n",
       "1             0          0           4  ...                         2   \n",
       "2             0          0           5  ...                         2   \n",
       "3             0          1           5  ...                         2   \n",
       "4             1          0           4  ...                         2   \n",
       "\n",
       "   stalk-color-above-ring  stalk-color-below-ring  veil-type  veil-color  \\\n",
       "0                       7                       7          0           2   \n",
       "1                       7                       7          0           2   \n",
       "2                       7                       7          0           2   \n",
       "3                       7                       7          0           2   \n",
       "4                       7                       7          0           2   \n",
       "\n",
       "   ring-number  ring-type  spore-print-color  population  habitat  \n",
       "0            1          4                  2           3        5  \n",
       "1            1          4                  3           2        1  \n",
       "2            1          4                  3           2        3  \n",
       "3            1          4                  2           3        5  \n",
       "4            1          0                  3           0        1  \n",
       "\n",
       "[5 rows x 23 columns]"
      ]
     },
     "execution_count": 14,
     "metadata": {},
     "output_type": "execute_result"
    }
   ],
   "source": [
    "from sklearn.preprocessing import LabelEncoder\n",
    "labelencoder=LabelEncoder()\n",
    "for column in dataset.columns:\n",
    "    dataset[column] = labelencoder.fit_transform(dataset[column])\n",
    "dataset.head()    "
   ]
  },
  {
   "cell_type": "code",
   "execution_count": 15,
   "id": "2b94a713",
   "metadata": {},
   "outputs": [],
   "source": [
    "#The Column veil-type has only one value ie.0.This column has no relevance hence dropped"
   ]
  },
  {
   "cell_type": "code",
   "execution_count": 5,
   "id": "9624c9a6",
   "metadata": {},
   "outputs": [],
   "source": [
    "dataset = dataset.drop([\"veil-type\"],axis=1)"
   ]
  },
  {
   "cell_type": "code",
   "execution_count": 17,
   "id": "7269ca17",
   "metadata": {},
   "outputs": [],
   "source": [
    "# look at the correlation between the variables"
   ]
  },
  {
   "cell_type": "code",
   "execution_count": 18,
   "id": "437bd9b9",
   "metadata": {},
   "outputs": [
    {
     "data": {
      "image/png": "[encoded data removed]",
      "text/plain": [
       "<Figure size 1152x1008 with 2 Axes>"
      ]
     },
     "metadata": {
      "needs_background": "light"
     },
     "output_type": "display_data"
    }
   ],
   "source": [
    "plt.figure(figsize=(16,14))\n",
    "sns.heatmap(dataset.corr(),linewidths=.1,cmap=\"Purples\", annot=True, annot_kws={\"size\": 7})\n",
    "plt.yticks(rotation=0);"
   ]
  },
  {
   "cell_type": "markdown",
   "id": "b20bc330",
   "metadata": {},
   "source": [
    "# Splitting the dataset in featureset and class labels"
   ]
  },
  {
   "cell_type": "code",
   "execution_count": 57,
   "id": "fca0d390",
   "metadata": {},
   "outputs": [
    {
     "data": {
      "text/html": [
       "<div>\n",
       "<style scoped>\n",
       "    .dataframe tbody tr th:only-of-type {\n",
       "        vertical-align: middle;\n",
       "    }\n",
       "\n",
       "    .dataframe tbody tr th {\n",
       "        vertical-align: top;\n",
       "    }\n",
       "\n",
       "    .dataframe thead th {\n",
       "        text-align: right;\n",
       "    }\n",
       "</style>\n",
       "<table border=\"1\" class=\"dataframe\">\n",
       "  <thead>\n",
       "    <tr style=\"text-align: right;\">\n",
       "      <th></th>\n",
       "      <th>cap-shape</th>\n",
       "      <th>cap-surface</th>\n",
       "      <th>cap-color</th>\n",
       "      <th>bruises</th>\n",
       "      <th>odor</th>\n",
       "      <th>gill-attachment</th>\n",
       "      <th>gill-spacing</th>\n",
       "      <th>gill-size</th>\n",
       "      <th>gill-color</th>\n",
       "      <th>stalk-shape</th>\n",
       "      <th>...</th>\n",
       "      <th>stalk-surface-above-ring</th>\n",
       "      <th>stalk-surface-below-ring</th>\n",
       "      <th>stalk-color-above-ring</th>\n",
       "      <th>stalk-color-below-ring</th>\n",
       "      <th>veil-color</th>\n",
       "      <th>ring-number</th>\n",
       "      <th>ring-type</th>\n",
       "      <th>spore-print-color</th>\n",
       "      <th>population</th>\n",
       "      <th>habitat</th>\n",
       "    </tr>\n",
       "  </thead>\n",
       "  <tbody>\n",
       "    <tr>\n",
       "      <th>0</th>\n",
       "      <td>5</td>\n",
       "      <td>2</td>\n",
       "      <td>4</td>\n",
       "      <td>1</td>\n",
       "      <td>6</td>\n",
       "      <td>1</td>\n",
       "      <td>0</td>\n",
       "      <td>1</td>\n",
       "      <td>4</td>\n",
       "      <td>0</td>\n",
       "      <td>...</td>\n",
       "      <td>2</td>\n",
       "      <td>2</td>\n",
       "      <td>7</td>\n",
       "      <td>7</td>\n",
       "      <td>2</td>\n",
       "      <td>1</td>\n",
       "      <td>4</td>\n",
       "      <td>2</td>\n",
       "      <td>3</td>\n",
       "      <td>5</td>\n",
       "    </tr>\n",
       "    <tr>\n",
       "      <th>1</th>\n",
       "      <td>5</td>\n",
       "      <td>2</td>\n",
       "      <td>9</td>\n",
       "      <td>1</td>\n",
       "      <td>0</td>\n",
       "      <td>1</td>\n",
       "      <td>0</td>\n",
       "      <td>0</td>\n",
       "      <td>4</td>\n",
       "      <td>0</td>\n",
       "      <td>...</td>\n",
       "      <td>2</td>\n",
       "      <td>2</td>\n",
       "      <td>7</td>\n",
       "      <td>7</td>\n",
       "      <td>2</td>\n",
       "      <td>1</td>\n",
       "      <td>4</td>\n",
       "      <td>3</td>\n",
       "      <td>2</td>\n",
       "      <td>1</td>\n",
       "    </tr>\n",
       "  </tbody>\n",
       "</table>\n",
       "<p>2 rows × 21 columns</p>\n",
       "</div>"
      ],
      "text/plain": [
       "   cap-shape  cap-surface  cap-color  bruises  odor  gill-attachment  \\\n",
       "0          5            2          4        1     6                1   \n",
       "1          5            2          9        1     0                1   \n",
       "\n",
       "   gill-spacing  gill-size  gill-color  stalk-shape  ...  \\\n",
       "0             0          1           4            0  ...   \n",
       "1             0          0           4            0  ...   \n",
       "\n",
       "   stalk-surface-above-ring  stalk-surface-below-ring  stalk-color-above-ring  \\\n",
       "0                         2                         2                       7   \n",
       "1                         2                         2                       7   \n",
       "\n",
       "   stalk-color-below-ring  veil-color  ring-number  ring-type  \\\n",
       "0                       7           2            1          4   \n",
       "1                       7           2            1          4   \n",
       "\n",
       "   spore-print-color  population  habitat  \n",
       "0                  2           3        5  \n",
       "1                  3           2        1  \n",
       "\n",
       "[2 rows x 21 columns]"
      ]
     },
     "execution_count": 57,
     "metadata": {},
     "output_type": "execute_result"
    }
   ],
   "source": [
    "x=dataset.iloc[:,1:]\n",
    "x.head(2)"
   ]
  },
  {
   "cell_type": "code",
   "execution_count": 58,
   "id": "e71092df",
   "metadata": {},
   "outputs": [
    {
     "data": {
      "text/plain": [
       "0    1\n",
       "1    0\n",
       "Name: class, dtype: int32"
      ]
     },
     "execution_count": 58,
     "metadata": {},
     "output_type": "execute_result"
    }
   ],
   "source": [
    "y=dataset.iloc[:,0]\n",
    "y.head(2)"
   ]
  },
  {
   "cell_type": "markdown",
   "id": "a37bdede",
   "metadata": {},
   "source": [
    "# Splitting the dataset into training set and testing set"
   ]
  },
  {
   "cell_type": "code",
   "execution_count": 56,
   "id": "062ced59",
   "metadata": {},
   "outputs": [],
   "source": [
    "from sklearn.model_selection import train_test_split\n",
    "x_train,x_test,y_train,y_test= train_test_split(x,y,test_size=0.30,random_state=0)"
   ]
  },
  {
   "cell_type": "code",
   "execution_count": 22,
   "id": "8ba493e8",
   "metadata": {},
   "outputs": [
    {
     "name": "stdout",
     "output_type": "stream",
     "text": [
      "\n",
      "Training feature set size:  (5686, 21)\n",
      "\n",
      "Training target set size:  (5686,)\n",
      "\n",
      "Testing feature set size:  (2438, 21)\n",
      "\n",
      "Testing target set size:  (5686,)\n"
     ]
    }
   ],
   "source": [
    "# Show the results of the split\n",
    "print(\"\\nTraining feature set size: \", x_train.shape)\n",
    "print(\"\\nTraining target set size: \", y_train.shape)\n",
    "print(\"\\nTesting feature set size: \", x_test.shape)\n",
    "print(\"\\nTesting target set size: \", y_train.shape)"
   ]
  },
  {
   "cell_type": "code",
   "execution_count": 23,
   "id": "34fad841",
   "metadata": {},
   "outputs": [
    {
     "data": {
      "text/html": [
       "<div>\n",
       "<style scoped>\n",
       "    .dataframe tbody tr th:only-of-type {\n",
       "        vertical-align: middle;\n",
       "    }\n",
       "\n",
       "    .dataframe tbody tr th {\n",
       "        vertical-align: top;\n",
       "    }\n",
       "\n",
       "    .dataframe thead th {\n",
       "        text-align: right;\n",
       "    }\n",
       "</style>\n",
       "<table border=\"1\" class=\"dataframe\">\n",
       "  <thead>\n",
       "    <tr style=\"text-align: right;\">\n",
       "      <th></th>\n",
       "      <th>cap-shape</th>\n",
       "      <th>cap-surface</th>\n",
       "      <th>cap-color</th>\n",
       "      <th>bruises</th>\n",
       "      <th>odor</th>\n",
       "      <th>gill-attachment</th>\n",
       "      <th>gill-spacing</th>\n",
       "      <th>gill-size</th>\n",
       "      <th>gill-color</th>\n",
       "      <th>stalk-shape</th>\n",
       "      <th>...</th>\n",
       "      <th>stalk-surface-above-ring</th>\n",
       "      <th>stalk-surface-below-ring</th>\n",
       "      <th>stalk-color-above-ring</th>\n",
       "      <th>stalk-color-below-ring</th>\n",
       "      <th>veil-color</th>\n",
       "      <th>ring-number</th>\n",
       "      <th>ring-type</th>\n",
       "      <th>spore-print-color</th>\n",
       "      <th>population</th>\n",
       "      <th>habitat</th>\n",
       "    </tr>\n",
       "  </thead>\n",
       "  <tbody>\n",
       "    <tr>\n",
       "      <th>0</th>\n",
       "      <td>5</td>\n",
       "      <td>2</td>\n",
       "      <td>4</td>\n",
       "      <td>1</td>\n",
       "      <td>6</td>\n",
       "      <td>1</td>\n",
       "      <td>0</td>\n",
       "      <td>1</td>\n",
       "      <td>4</td>\n",
       "      <td>0</td>\n",
       "      <td>...</td>\n",
       "      <td>2</td>\n",
       "      <td>2</td>\n",
       "      <td>7</td>\n",
       "      <td>7</td>\n",
       "      <td>2</td>\n",
       "      <td>1</td>\n",
       "      <td>4</td>\n",
       "      <td>2</td>\n",
       "      <td>3</td>\n",
       "      <td>5</td>\n",
       "    </tr>\n",
       "    <tr>\n",
       "      <th>1</th>\n",
       "      <td>5</td>\n",
       "      <td>2</td>\n",
       "      <td>9</td>\n",
       "      <td>1</td>\n",
       "      <td>0</td>\n",
       "      <td>1</td>\n",
       "      <td>0</td>\n",
       "      <td>0</td>\n",
       "      <td>4</td>\n",
       "      <td>0</td>\n",
       "      <td>...</td>\n",
       "      <td>2</td>\n",
       "      <td>2</td>\n",
       "      <td>7</td>\n",
       "      <td>7</td>\n",
       "      <td>2</td>\n",
       "      <td>1</td>\n",
       "      <td>4</td>\n",
       "      <td>3</td>\n",
       "      <td>2</td>\n",
       "      <td>1</td>\n",
       "    </tr>\n",
       "    <tr>\n",
       "      <th>2</th>\n",
       "      <td>0</td>\n",
       "      <td>2</td>\n",
       "      <td>8</td>\n",
       "      <td>1</td>\n",
       "      <td>3</td>\n",
       "      <td>1</td>\n",
       "      <td>0</td>\n",
       "      <td>0</td>\n",
       "      <td>5</td>\n",
       "      <td>0</td>\n",
       "      <td>...</td>\n",
       "      <td>2</td>\n",
       "      <td>2</td>\n",
       "      <td>7</td>\n",
       "      <td>7</td>\n",
       "      <td>2</td>\n",
       "      <td>1</td>\n",
       "      <td>4</td>\n",
       "      <td>3</td>\n",
       "      <td>2</td>\n",
       "      <td>3</td>\n",
       "    </tr>\n",
       "    <tr>\n",
       "      <th>3</th>\n",
       "      <td>5</td>\n",
       "      <td>3</td>\n",
       "      <td>8</td>\n",
       "      <td>1</td>\n",
       "      <td>6</td>\n",
       "      <td>1</td>\n",
       "      <td>0</td>\n",
       "      <td>1</td>\n",
       "      <td>5</td>\n",
       "      <td>0</td>\n",
       "      <td>...</td>\n",
       "      <td>2</td>\n",
       "      <td>2</td>\n",
       "      <td>7</td>\n",
       "      <td>7</td>\n",
       "      <td>2</td>\n",
       "      <td>1</td>\n",
       "      <td>4</td>\n",
       "      <td>2</td>\n",
       "      <td>3</td>\n",
       "      <td>5</td>\n",
       "    </tr>\n",
       "    <tr>\n",
       "      <th>4</th>\n",
       "      <td>5</td>\n",
       "      <td>2</td>\n",
       "      <td>3</td>\n",
       "      <td>0</td>\n",
       "      <td>5</td>\n",
       "      <td>1</td>\n",
       "      <td>1</td>\n",
       "      <td>0</td>\n",
       "      <td>4</td>\n",
       "      <td>1</td>\n",
       "      <td>...</td>\n",
       "      <td>2</td>\n",
       "      <td>2</td>\n",
       "      <td>7</td>\n",
       "      <td>7</td>\n",
       "      <td>2</td>\n",
       "      <td>1</td>\n",
       "      <td>0</td>\n",
       "      <td>3</td>\n",
       "      <td>0</td>\n",
       "      <td>1</td>\n",
       "    </tr>\n",
       "  </tbody>\n",
       "</table>\n",
       "<p>5 rows × 21 columns</p>\n",
       "</div>"
      ],
      "text/plain": [
       "   cap-shape  cap-surface  cap-color  bruises  odor  gill-attachment  \\\n",
       "0          5            2          4        1     6                1   \n",
       "1          5            2          9        1     0                1   \n",
       "2          0            2          8        1     3                1   \n",
       "3          5            3          8        1     6                1   \n",
       "4          5            2          3        0     5                1   \n",
       "\n",
       "   gill-spacing  gill-size  gill-color  stalk-shape  ...  \\\n",
       "0             0          1           4            0  ...   \n",
       "1             0          0           4            0  ...   \n",
       "2             0          0           5            0  ...   \n",
       "3             0          1           5            0  ...   \n",
       "4             1          0           4            1  ...   \n",
       "\n",
       "   stalk-surface-above-ring  stalk-surface-below-ring  stalk-color-above-ring  \\\n",
       "0                         2                         2                       7   \n",
       "1                         2                         2                       7   \n",
       "2                         2                         2                       7   \n",
       "3                         2                         2                       7   \n",
       "4                         2                         2                       7   \n",
       "\n",
       "   stalk-color-below-ring  veil-color  ring-number  ring-type  \\\n",
       "0                       7           2            1          4   \n",
       "1                       7           2            1          4   \n",
       "2                       7           2            1          4   \n",
       "3                       7           2            1          4   \n",
       "4                       7           2            1          0   \n",
       "\n",
       "   spore-print-color  population  habitat  \n",
       "0                  2           3        5  \n",
       "1                  3           2        1  \n",
       "2                  3           2        3  \n",
       "3                  2           3        5  \n",
       "4                  3           0        1  \n",
       "\n",
       "[5 rows x 21 columns]"
      ]
     },
     "execution_count": 23,
     "metadata": {},
     "output_type": "execute_result"
    }
   ],
   "source": [
    "x.head()"
   ]
  },
  {
   "cell_type": "markdown",
   "id": "4571f263",
   "metadata": {},
   "source": [
    "# Fitting Gaussian Naive Bayes to the training set"
   ]
  },
  {
   "cell_type": "code",
   "execution_count": 24,
   "id": "c75eb63e",
   "metadata": {},
   "outputs": [],
   "source": [
    "from sklearn.naive_bayes import GaussianNB\n",
    "classifier= GaussianNB()\n"
   ]
  },
  {
   "cell_type": "code",
   "execution_count": 25,
   "id": "3b5e19b5",
   "metadata": {},
   "outputs": [
    {
     "data": {
      "text/plain": [
       "GaussianNB()"
      ]
     },
     "execution_count": 25,
     "metadata": {},
     "output_type": "execute_result"
    }
   ],
   "source": [
    "classifier.fit(x_train,y_train)"
   ]
  },
  {
   "cell_type": "code",
   "execution_count": 26,
   "id": "1d592ed4",
   "metadata": {},
   "outputs": [],
   "source": [
    "#Prediction of Test Result"
   ]
  },
  {
   "cell_type": "code",
   "execution_count": 27,
   "id": "c0d0f612",
   "metadata": {},
   "outputs": [
    {
     "data": {
      "text/plain": [
       "array([1, 1, 0, ..., 1, 1, 1])"
      ]
     },
     "execution_count": 27,
     "metadata": {},
     "output_type": "execute_result"
    }
   ],
   "source": [
    "y_pred=classifier.predict(x_test)\n",
    "y_pred"
   ]
  },
  {
   "cell_type": "code",
   "execution_count": 28,
   "id": "f231c8db",
   "metadata": {},
   "outputs": [],
   "source": [
    "#Making confusion matrix"
   ]
  },
  {
   "cell_type": "code",
   "execution_count": 29,
   "id": "f33464c3",
   "metadata": {},
   "outputs": [
    {
     "data": {
      "text/plain": [
       "0.9150943396226415"
      ]
     },
     "execution_count": 29,
     "metadata": {},
     "output_type": "execute_result"
    }
   ],
   "source": [
    "from sklearn.metrics import confusion_matrix,accuracy_score\n",
    "cm=confusion_matrix(y_test,y_pred)\n",
    "accuracy_score(y_test,y_pred)\n"
   ]
  },
  {
   "cell_type": "code",
   "execution_count": 30,
   "id": "c95aa24c",
   "metadata": {},
   "outputs": [
    {
     "data": {
      "text/plain": [
       "array([[1158,  114],\n",
       "       [  93, 1073]], dtype=int64)"
      ]
     },
     "execution_count": 30,
     "metadata": {},
     "output_type": "execute_result"
    }
   ],
   "source": [
    "cm"
   ]
  },
  {
   "cell_type": "code",
   "execution_count": 31,
   "id": "2254a2ba",
   "metadata": {},
   "outputs": [
    {
     "data": {
      "image/png": "[encoded data removed]",
      "text/plain": [
       "<Figure size 504x504 with 2 Axes>"
      ]
     },
     "metadata": {
      "needs_background": "light"
     },
     "output_type": "display_data"
    }
   ],
   "source": [
    "cm = confusion_matrix(y_test, y_pred)\n",
    "x_axis_labels = [\"Edible\", \"Poisonous\"]\n",
    "y_axis_labels = [\"Edible\", \"Poisonous\"]\n",
    "f, ax = plt.subplots(figsize =(7,7))\n",
    "sns.heatmap(cm, annot = True, linewidths=0.2, linecolor=\"black\", fmt = \".0f\", ax=ax, cmap=\"Purples\", xticklabels=x_axis_labels, yticklabels=y_axis_labels)\n",
    "plt.xlabel(\"PREDICTED LABEL\")\n",
    "plt.ylabel(\"TRUE LABEL\")\n",
    "plt.title('Confusion Matrix for GaussianNB Classifier')\n",
    "#plt.savefig(\"svmcm.png\", format='png', dpi=500, bbox_inches='tight')\n",
    "plt.show()"
   ]
  },
  {
   "cell_type": "markdown",
   "id": "0a76410d",
   "metadata": {},
   "source": [
    "# Fitting BernoulliNaiveBayes to the Trainingset"
   ]
  },
  {
   "cell_type": "code",
   "execution_count": 32,
   "id": "d78a047f",
   "metadata": {},
   "outputs": [
    {
     "data": {
      "text/plain": [
       "BernoulliNB()"
      ]
     },
     "execution_count": 32,
     "metadata": {},
     "output_type": "execute_result"
    }
   ],
   "source": [
    "from sklearn.naive_bayes import BernoulliNB\n",
    "classifier=BernoulliNB()\n",
    "classifier.fit(x_train,y_train)"
   ]
  },
  {
   "cell_type": "code",
   "execution_count": 33,
   "id": "b11dff74",
   "metadata": {},
   "outputs": [],
   "source": [
    "#Prediction of test set result"
   ]
  },
  {
   "cell_type": "code",
   "execution_count": 34,
   "id": "80610003",
   "metadata": {},
   "outputs": [],
   "source": [
    "y_pred=classifier.predict(x_test)"
   ]
  },
  {
   "cell_type": "code",
   "execution_count": 35,
   "id": "ecff287b",
   "metadata": {},
   "outputs": [
    {
     "data": {
      "text/plain": [
       "0.839622641509434"
      ]
     },
     "execution_count": 35,
     "metadata": {},
     "output_type": "execute_result"
    }
   ],
   "source": [
    "accuracy_score(y_test,y_pred)"
   ]
  },
  {
   "cell_type": "markdown",
   "id": "c0960f15",
   "metadata": {},
   "source": [
    "# Decision Tree Classification"
   ]
  },
  {
   "cell_type": "code",
   "execution_count": 62,
   "id": "d555cf7a",
   "metadata": {},
   "outputs": [
    {
     "data": {
      "text/plain": [
       "DecisionTreeClassifier(max_depth=5, random_state=0)"
      ]
     },
     "execution_count": 62,
     "metadata": {},
     "output_type": "execute_result"
    }
   ],
   "source": [
    "from sklearn.tree import DecisionTreeClassifier\n",
    "dt = DecisionTreeClassifier(random_state=0,max_depth=5)\n",
    "dt.fit(x_train,y_train)"
   ]
  },
  {
   "cell_type": "code",
   "execution_count": 63,
   "id": "41f9caed",
   "metadata": {},
   "outputs": [
    {
     "name": "stdout",
     "output_type": "stream",
     "text": [
      "Accuracy of Decision Tree model classifier is : 0.9827727645611156\n"
     ]
    }
   ],
   "source": [
    "y_pred = dt.predict(x_test)\n",
    "print('Accuracy of Decision Tree model classifier is :',accuracy_score(y_test,y_pred))"
   ]
  },
  {
   "cell_type": "code",
   "execution_count": 65,
   "id": "005d78c0",
   "metadata": {},
   "outputs": [
    {
     "data": {
      "image/png": "[encoded data removed]",
      "text/plain": [
       "<Figure size 504x504 with 2 Axes>"
      ]
     },
     "metadata": {
      "needs_background": "light"
     },
     "output_type": "display_data"
    }
   ],
   "source": [
    "cm = confusion_matrix(y_test, y_pred)\n",
    "x_axis_labels = [\"Edible\", \"Poisonous\"]\n",
    "y_axis_labels = [\"Edible\", \"Poisonous\"]\n",
    "f, ax = plt.subplots(figsize =(7,7))\n",
    "sns.heatmap(cm, annot = True, linewidths=0.2, linecolor=\"black\", fmt = \".0f\", ax=ax, cmap=\"Purples\", xticklabels=x_axis_labels, yticklabels=y_axis_labels)\n",
    "plt.xlabel(\"PREDICTED LABEL\")\n",
    "plt.ylabel(\"TRUE LABEL\")\n",
    "plt.title('Confusion Matrix for Decision Tree Classifier')\n",
    "\n",
    "plt.show()"
   ]
  },
  {
   "cell_type": "markdown",
   "id": "b0842651",
   "metadata": {},
   "source": [
    "# KNN Classification"
   ]
  },
  {
   "cell_type": "code",
   "execution_count": 96,
   "id": "2ce2adfe",
   "metadata": {},
   "outputs": [],
   "source": [
    "from sklearn.neighbors import KNeighborsClassifier\n",
    "acc_values=[]\n",
    "neighbors=np.arange(3,15)\n",
    "for k in neighbors:\n",
    "    classifier=KNeighborsClassifier(n_neighbors=k,metric='minkowski')\n",
    "    classifier.fit(x_train,y_train)\n",
    "    y_pred=classifier.predict(x_test)\n",
    "    acc=accuracy_score(y_test,y_pred)\n",
    "    acc_values.append(acc)"
   ]
  },
  {
   "cell_type": "code",
   "execution_count": 97,
   "id": "17066fd9",
   "metadata": {},
   "outputs": [
    {
     "data": {
      "text/plain": [
       "[0.9987694831829368,\n",
       " 0.9987694831829368,\n",
       " 0.9975389663658737,\n",
       " 0.9971287940935193,\n",
       " 0.9975389663658737,\n",
       " 0.9958982772764561,\n",
       " 0.9963084495488105,\n",
       " 0.994667760459393,\n",
       " 0.9954881050041017,\n",
       " 0.9938474159146842,\n",
       " 0.9938474159146842,\n",
       " 0.992616899097621]"
      ]
     },
     "execution_count": 97,
     "metadata": {},
     "output_type": "execute_result"
    }
   ],
   "source": [
    "acc_values"
   ]
  },
  {
   "cell_type": "code",
   "execution_count": 98,
   "id": "50e7bfc2",
   "metadata": {},
   "outputs": [
    {
     "data": {
      "text/plain": [
       "Text(0, 0.5, 'accuracy')"
      ]
     },
     "execution_count": 98,
     "metadata": {},
     "output_type": "execute_result"
    },
    {
     "data": {
      "image/png": "[encoded data removed]",
      "text/plain": [
       "<Figure size 432x288 with 1 Axes>"
      ]
     },
     "metadata": {
      "needs_background": "light"
     },
     "output_type": "display_data"
    }
   ],
   "source": [
    "plt.plot(neighbors,acc_values,'o-')\n",
    "plt.xlabel('k value')\n",
    "plt.ylabel('accuracy')"
   ]
  },
  {
   "cell_type": "code",
   "execution_count": 99,
   "id": "2d177c21",
   "metadata": {},
   "outputs": [],
   "source": [
    "from sklearn.neighbors import KNeighborsClassifier\n",
    "acc_values=[]\n",
    "neighbors=np.arange(3,15)\n",
    "for k in neighbors:\n",
    "    classifier=KNeighborsClassifier(n_neighbors=4)\n",
    "    classifier.fit(x_train,y_train)\n",
    "    y_pred=classifier.predict(x_test)\n",
    "    acc=accuracy_score(y_test,y_pred)\n",
    "    acc_values.append(acc)"
   ]
  },
  {
   "cell_type": "code",
   "execution_count": 100,
   "id": "a8f618ef",
   "metadata": {},
   "outputs": [
    {
     "data": {
      "text/plain": [
       "Text(0, 0.5, 'accuracy')"
      ]
     },
     "execution_count": 100,
     "metadata": {},
     "output_type": "execute_result"
    },
    {
     "data": {
      "image/png": "[encoded data removed]",
      "text/plain": [
       "<Figure size 432x288 with 1 Axes>"
      ]
     },
     "metadata": {
      "needs_background": "light"
     },
     "output_type": "display_data"
    }
   ],
   "source": [
    "plt.plot(neighbors,acc_values,'o-')\n",
    "plt.xlabel('k value')\n",
    "plt.ylabel('accuracy')"
   ]
  },
  {
   "cell_type": "code",
   "execution_count": 101,
   "id": "314790a7",
   "metadata": {},
   "outputs": [
    {
     "data": {
      "text/plain": [
       "array([[1270,    2],\n",
       "       [   1, 1165]], dtype=int64)"
      ]
     },
     "execution_count": 101,
     "metadata": {},
     "output_type": "execute_result"
    }
   ],
   "source": [
    "confusion_matrix(y_test,y_pred)"
   ]
  },
  {
   "cell_type": "code",
   "execution_count": 102,
   "id": "4a0ebd96",
   "metadata": {},
   "outputs": [
    {
     "name": "stdout",
     "output_type": "stream",
     "text": [
      "Accuracy is 99.87694831829369\n"
     ]
    }
   ],
   "source": [
    "print('Accuracy is',accuracy_score(y_test,y_pred)*100)"
   ]
  },
  {
   "cell_type": "code",
   "execution_count": 103,
   "id": "22b989b7",
   "metadata": {},
   "outputs": [
    {
     "data": {
      "image/png": "[encoded data removed]",
      "text/plain": [
       "<Figure size 504x504 with 2 Axes>"
      ]
     },
     "metadata": {
      "needs_background": "light"
     },
     "output_type": "display_data"
    }
   ],
   "source": [
    "cm = confusion_matrix(y_test, y_pred)\n",
    "x_axis_labels = [\"Edible\", \"Poisonous\"]\n",
    "y_axis_labels = [\"Edible\", \"Poisonous\"]\n",
    "f, ax = plt.subplots(figsize =(7,7))\n",
    "sns.heatmap(cm, annot = True, linewidths=0.2, linecolor=\"black\", fmt = \".0f\", ax=ax, cmap=\"Purples\", xticklabels=x_axis_labels, yticklabels=y_axis_labels)\n",
    "plt.xlabel(\"PREDICTED LABEL\")\n",
    "plt.ylabel(\"TRUE LABEL\")\n",
    "plt.title('Confusion Matrix for KNeighborsClassifier')\n",
    "\n",
    "plt.show()"
   ]
  },
  {
   "cell_type": "markdown",
   "id": "3958b422",
   "metadata": {},
   "source": [
    "# SVM Classifier"
   ]
  },
  {
   "cell_type": "code",
   "execution_count": 104,
   "id": "85402c2e",
   "metadata": {},
   "outputs": [
    {
     "name": "stdout",
     "output_type": "stream",
     "text": [
      "Accuracy using linear svm is : 0.9639048400328137\n"
     ]
    }
   ],
   "source": [
    "from sklearn.svm import SVC\n",
    "svm_linear=SVC(kernel='linear')\n",
    "svm_linear.fit(x_train,y_train)\n",
    "y_pred=svm_linear.predict(x_test)\n",
    "print('Accuracy using linear svm is :',accuracy_score(y_test,y_pred))"
   ]
  },
  {
   "cell_type": "code",
   "execution_count": 105,
   "id": "c5cbe02d",
   "metadata": {},
   "outputs": [
    {
     "name": "stdout",
     "output_type": "stream",
     "text": [
      "RMSE test set: 0.19\n"
     ]
    }
   ],
   "source": [
    "from sklearn.metrics import mean_squared_error\n",
    "MSE=mean_squared_error\n",
    "svm_linear.fit(x_train,y_train)\n",
    "pred_y = svm_linear.predict(x_test)\n",
    "test_rmse = MSE(y_test, y_pred) ** (1 / 2)\n",
    "print('RMSE test set: {:.2f}'.format(test_rmse))"
   ]
  },
  {
   "cell_type": "markdown",
   "id": "68e9037c",
   "metadata": {},
   "source": [
    "# RandomForestClassifier"
   ]
  },
  {
   "cell_type": "code",
   "execution_count": 106,
   "id": "4c38926a",
   "metadata": {},
   "outputs": [
    {
     "data": {
      "text/plain": [
       "0.9620034542314335"
      ]
     },
     "execution_count": 106,
     "metadata": {},
     "output_type": "execute_result"
    }
   ],
   "source": [
    "from sklearn.ensemble import RandomForestClassifier\n",
    "from sklearn.metrics import f1_score, confusion_matrix\n",
    "\n",
    "rf = RandomForestClassifier(n_estimators=100, random_state=42)\n",
    "rf.fit(x_train,y_train)\n",
    "f1_score(y_test,y_pred)\n",
    "\n"
   ]
  },
  {
   "cell_type": "code",
   "execution_count": 107,
   "id": "27e73006",
   "metadata": {},
   "outputs": [
    {
     "data": {
      "text/plain": [
       "array([[1236,   36],\n",
       "       [  52, 1114]], dtype=int64)"
      ]
     },
     "execution_count": 107,
     "metadata": {},
     "output_type": "execute_result"
    }
   ],
   "source": [
    "confusion_matrix(y_test,y_pred)"
   ]
  },
  {
   "cell_type": "code",
   "execution_count": 108,
   "id": "c6704847",
   "metadata": {},
   "outputs": [
    {
     "data": {
      "image/png": "[encoded data removed]",
      "text/plain": [
       "<Figure size 504x504 with 2 Axes>"
      ]
     },
     "metadata": {
      "needs_background": "light"
     },
     "output_type": "display_data"
    }
   ],
   "source": [
    "cm = confusion_matrix(y_test, y_pred)\n",
    "x_axis_labels = [\"Edible\", \"Poisonous\"]\n",
    "y_axis_labels = [\"Edible\", \"Poisonous\"]\n",
    "f, ax = plt.subplots(figsize =(7,7))\n",
    "sns.heatmap(cm, annot = True, linewidths=0.2, linecolor=\"black\", fmt = \".0f\", ax=ax, cmap=\"Purples\", xticklabels=x_axis_labels, yticklabels=y_axis_labels)\n",
    "plt.xlabel(\"PREDICTED LABEL\")\n",
    "plt.ylabel(\"TRUE LABEL\")\n",
    "plt.title('Confusion Matrix for Random Forest Classifier')\n",
    "\n",
    "plt.show()"
   ]
  },
  {
   "cell_type": "code",
   "execution_count": null,
   "id": "39ac73df",
   "metadata": {},
   "outputs": [],
   "source": [
    "Conclusion:From the above models KNeighborsClassifier gives better result of 99.88% "
   ]
  }
 ],
 "metadata": {
  "kernelspec": {
   "display_name": "Python 3 (ipykernel)",
   "language": "python",
   "name": "python3"
  },
  "language_info": {
   "codemirror_mode": {
    "name": "ipython",
    "version": 3
   },
   "file_extension": ".py",
   "mimetype": "text/x-python",
   "name": "python",
   "nbconvert_exporter": "python",
   "pygments_lexer": "ipython3",
   "version": "3.8.12"
  }
 },
 "nbformat": 4,
 "nbformat_minor": 5
}
